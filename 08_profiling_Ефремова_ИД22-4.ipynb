{
 "cells": [
  {
   "cell_type": "markdown",
   "metadata": {},
   "source": [
    "## Оптимизация выполнения кода, векторизация, Numba"
   ]
  },
  {
   "cell_type": "markdown",
   "metadata": {},
   "source": [
    "## Задачи для совместного разбора"
   ]
  },
  {
   "cell_type": "code",
   "execution_count": 8,
   "metadata": {},
   "outputs": [],
   "source": [
    "import line_profiler\n",
    "import numpy as np\n",
    "from numba import jit\n",
    "import pandas as pd\n",
    "import random\n",
    "import string\n",
    "import timeit\n",
    "import time"
   ]
  },
  {
   "cell_type": "markdown",
   "metadata": {},
   "source": [
    "1. Сгенерируйте массив `A` из `N=1млн` случайных целых чисел на отрезке от 0 до 1000. Пусть `B[i] = A[i] + 100`. Посчитайте среднее значение массива `B`."
   ]
  },
  {
   "cell_type": "code",
   "execution_count": 3,
   "metadata": {},
   "outputs": [
    {
     "name": "stdout",
     "output_type": "stream",
     "text": [
      "Среднее значение массива B: 599.9141\n"
     ]
    }
   ],
   "source": [
    "N = 1000000\n",
    "A = np.random.randint(low=0, high=1001, size=N) \n",
    "B = A + 100 \n",
    "mean_B = np.mean(B)\n",
    "\n",
    "print(f\"Среднее значение массива B: {mean_B}\")"
   ]
  },
  {
   "cell_type": "markdown",
   "metadata": {},
   "source": [
    "2. Создайте таблицу 2млн строк и с 4 столбцами, заполненными случайными числами. Добавьте столбец `key`, которые содержит элементы из множества английских букв. Выберите из таблицы подмножество строк, для которых в столбце `key` указаны первые 5 английских букв."
   ]
  },
  {
   "cell_type": "code",
   "execution_count": 6,
   "metadata": {},
   "outputs": [
    {
     "data": {
      "text/html": [
       "<div>\n",
       "<style scoped>\n",
       "    .dataframe tbody tr th:only-of-type {\n",
       "        vertical-align: middle;\n",
       "    }\n",
       "\n",
       "    .dataframe tbody tr th {\n",
       "        vertical-align: top;\n",
       "    }\n",
       "\n",
       "    .dataframe thead th {\n",
       "        text-align: right;\n",
       "    }\n",
       "</style>\n",
       "<table border=\"1\" class=\"dataframe\">\n",
       "  <thead>\n",
       "    <tr style=\"text-align: right;\">\n",
       "      <th></th>\n",
       "      <th>col1</th>\n",
       "      <th>col2</th>\n",
       "      <th>col3</th>\n",
       "      <th>col4</th>\n",
       "      <th>key</th>\n",
       "    </tr>\n",
       "  </thead>\n",
       "  <tbody>\n",
       "    <tr>\n",
       "      <th>2486</th>\n",
       "      <td>0.738115</td>\n",
       "      <td>0.040778</td>\n",
       "      <td>0.243357</td>\n",
       "      <td>0.091882</td>\n",
       "      <td>beeba</td>\n",
       "    </tr>\n",
       "    <tr>\n",
       "      <th>4653</th>\n",
       "      <td>0.161228</td>\n",
       "      <td>0.809489</td>\n",
       "      <td>0.682168</td>\n",
       "      <td>0.498670</td>\n",
       "      <td>bdbac</td>\n",
       "    </tr>\n",
       "    <tr>\n",
       "      <th>8334</th>\n",
       "      <td>0.586140</td>\n",
       "      <td>0.512454</td>\n",
       "      <td>0.123007</td>\n",
       "      <td>0.219334</td>\n",
       "      <td>bdded</td>\n",
       "    </tr>\n",
       "    <tr>\n",
       "      <th>13565</th>\n",
       "      <td>0.351940</td>\n",
       "      <td>0.002811</td>\n",
       "      <td>0.008488</td>\n",
       "      <td>0.672380</td>\n",
       "      <td>cddec</td>\n",
       "    </tr>\n",
       "    <tr>\n",
       "      <th>20953</th>\n",
       "      <td>0.629156</td>\n",
       "      <td>0.631197</td>\n",
       "      <td>0.744952</td>\n",
       "      <td>0.772950</td>\n",
       "      <td>becde</td>\n",
       "    </tr>\n",
       "    <tr>\n",
       "      <th>...</th>\n",
       "      <td>...</td>\n",
       "      <td>...</td>\n",
       "      <td>...</td>\n",
       "      <td>...</td>\n",
       "      <td>...</td>\n",
       "    </tr>\n",
       "    <tr>\n",
       "      <th>1972948</th>\n",
       "      <td>0.439408</td>\n",
       "      <td>0.482295</td>\n",
       "      <td>0.444584</td>\n",
       "      <td>0.433914</td>\n",
       "      <td>ceeac</td>\n",
       "    </tr>\n",
       "    <tr>\n",
       "      <th>1979520</th>\n",
       "      <td>0.019370</td>\n",
       "      <td>0.666577</td>\n",
       "      <td>0.959046</td>\n",
       "      <td>0.385321</td>\n",
       "      <td>aedcc</td>\n",
       "    </tr>\n",
       "    <tr>\n",
       "      <th>1984436</th>\n",
       "      <td>0.643981</td>\n",
       "      <td>0.960380</td>\n",
       "      <td>0.692916</td>\n",
       "      <td>0.128538</td>\n",
       "      <td>adbbd</td>\n",
       "    </tr>\n",
       "    <tr>\n",
       "      <th>1987764</th>\n",
       "      <td>0.395183</td>\n",
       "      <td>0.018452</td>\n",
       "      <td>0.295181</td>\n",
       "      <td>0.475049</td>\n",
       "      <td>ecbbc</td>\n",
       "    </tr>\n",
       "    <tr>\n",
       "      <th>1995988</th>\n",
       "      <td>0.431957</td>\n",
       "      <td>0.343949</td>\n",
       "      <td>0.339169</td>\n",
       "      <td>0.496892</td>\n",
       "      <td>eeabc</td>\n",
       "    </tr>\n",
       "  </tbody>\n",
       "</table>\n",
       "<p>490 rows × 5 columns</p>\n",
       "</div>"
      ],
      "text/plain": [
       "             col1      col2      col3      col4    key\n",
       "2486     0.738115  0.040778  0.243357  0.091882  beeba\n",
       "4653     0.161228  0.809489  0.682168  0.498670  bdbac\n",
       "8334     0.586140  0.512454  0.123007  0.219334  bdded\n",
       "13565    0.351940  0.002811  0.008488  0.672380  cddec\n",
       "20953    0.629156  0.631197  0.744952  0.772950  becde\n",
       "...           ...       ...       ...       ...    ...\n",
       "1972948  0.439408  0.482295  0.444584  0.433914  ceeac\n",
       "1979520  0.019370  0.666577  0.959046  0.385321  aedcc\n",
       "1984436  0.643981  0.960380  0.692916  0.128538  adbbd\n",
       "1987764  0.395183  0.018452  0.295181  0.475049  ecbbc\n",
       "1995988  0.431957  0.343949  0.339169  0.496892  eeabc\n",
       "\n",
       "[490 rows x 5 columns]"
      ]
     },
     "execution_count": 6,
     "metadata": {},
     "output_type": "execute_result"
    }
   ],
   "source": [
    "df = pd.DataFrame({'col1': [random.random() for _ in range(2000000)],\n",
    "                   'col2': [random.random() for _ in range(2000000)],\n",
    "                   'col3': [random.random() for _ in range(2000000)],\n",
    "                   'col4': [random.random() for _ in range(2000000)]})\n",
    "\n",
    "\n",
    "def random_string(length):\n",
    "    return ''.join(random.choice(string.ascii_lowercase) for _ in range(length))\n",
    "\n",
    "df['key'] = [random_string(5) for _ in range(2000000)]\n",
    "\n",
    "sub = df[df['key'].str.match('[a-e]{5}')]\n",
    "sub"
   ]
  },
  {
   "cell_type": "markdown",
   "metadata": {},
   "source": [
    "## Лабораторная работа 3"
   ]
  },
  {
   "cell_type": "code",
   "execution_count": 7,
   "metadata": {},
   "outputs": [
    {
     "name": "stdout",
     "output_type": "stream",
     "text": [
      "Requirement already satisfied: line_profiler in /Users/sophie/opt/anaconda3/lib/python3.9/site-packages (4.0.3)\r\n"
     ]
    }
   ],
   "source": [
    "!pip install line_profiler\n",
    "%load_ext line_profiler"
   ]
  },
  {
   "cell_type": "markdown",
   "metadata": {},
   "source": [
    "1. В файлах `recipes_sample.csv` и `reviews_sample.csv` (__ЛР 2__) находится информация об рецептах блюд и отзывах на эти рецепты соответственно. Загрузите данные из файлов в виде `pd.DataFrame` с названиями `recipes` и `reviews`. Обратите внимание на корректное считывание столбца(ов) с индексами. Приведите столбцы к нужным типам.\n",
    "\n",
    "Реализуйте несколько вариантов функции подсчета среднего значения столбца `rating` из таблицы `reviews` для отзывов, оставленных в 2010 году.\n",
    "\n",
    "A. С использованием метода `DataFrame.iterrows` исходной таблицы;\n",
    "\n",
    "Б. С использованием метода `DataFrame.iterrows` таблицы, в которой сохранены только отзывы за 2010 год;\n",
    "\n",
    "В. С использованием метода `Series.mean`.\n",
    "\n",
    "Проверьте, что результаты работы всех написанных функций корректны и совпадают. Измерьте выполнения всех написанных функций.\n"
   ]
  },
  {
   "cell_type": "code",
   "execution_count": 9,
   "metadata": {},
   "outputs": [
    {
     "name": "stdout",
     "output_type": "stream",
     "text": [
      "mean_A time: 0.21152070900001263\n",
      "mean_B time: 0.21001612500000988\n",
      "mean_C time: 0.00019791599999052778\n"
     ]
    }
   ],
   "source": [
    "recipes = pd.read_csv('recipes_sample.csv')\n",
    "reviews = pd.read_csv('reviews_sample.csv', index_col=0)\n",
    "\n",
    "recipes['submitted'] = pd.to_datetime(recipes['submitted'])\n",
    "reviews_2010 = reviews.loc[pd.DatetimeIndex(reviews['date']).year == 2010]\n",
    "\n",
    "def mean_A(reviews):\n",
    "    total = 0\n",
    "    for _, row in reviews.iterrows():\n",
    "        total += row['rating']\n",
    "    return total / len(reviews)\n",
    "\n",
    "def mean_B(reviews_2010):\n",
    "    total = 0\n",
    "    for _, row in reviews_2010.iterrows():\n",
    "        total += row['rating']\n",
    "    return total / len(reviews_2010)\n",
    "\n",
    "def mean_C(reviews_2010):\n",
    "    return reviews_2010['rating'].mean()\n",
    "\n",
    "# Замер времени выполнения функций\n",
    "time_A = timeit.timeit(lambda: mean_A(reviews_2010), number=1)\n",
    "\n",
    "# Замер времени выполнения функции mean_rating_B\n",
    "time_B = timeit.timeit(lambda: mean_B(reviews_2010), number=1)\n",
    "\n",
    "# Замер времени выполнения функции mean_rating_C\n",
    "time_C = timeit.timeit(lambda: mean_C(reviews_2010), number=1)\n",
    "\n",
    "# Вывод результатов замеров времени\n",
    "print('mean_A time:', time_A)\n",
    "print('mean_B time:', time_B)\n",
    "print('mean_C time:', time_C)"
   ]
  },
  {
   "cell_type": "markdown",
   "metadata": {},
   "source": [
    "2. Какая из созданных функций выполняется медленнее? Что наиболее сильно влияет на скорость выполнения? Для ответа использовать профайлер `line_profiler`. Сохраните результаты работы профайлера в отдельную текстовую ячейку и прокомментируйте результаты его работы.\n",
    "\n",
    "(*). Сможете ли вы ускорить работу функции 1Б, отказавшись от использования метода `iterrows`, но не используя метод `mean`?"
   ]
  },
  {
   "cell_type": "code",
   "execution_count": 12,
   "metadata": {},
   "outputs": [],
   "source": [
    "%lprun -f mean_rating_A mean_rating_A(reviews_2010)"
   ]
  },
  {
   "attachments": {
    "Screenshot_1.png": {
     "image/png": "[encoded data removed]"
    }
   },
   "cell_type": "markdown",
   "metadata": {},
   "source": [
    "![Screenshot_1.png](attachment:Screenshot_1.png)"
   ]
  },
  {
   "cell_type": "code",
   "execution_count": 14,
   "metadata": {},
   "outputs": [],
   "source": [
    "%lprun -f mean_rating_B mean_rating_B(reviews_2010)"
   ]
  },
  {
   "attachments": {
    "Screenshot_2.png": {
     "image/png": "[encoded data removed]"
    }
   },
   "cell_type": "markdown",
   "metadata": {},
   "source": [
    "![Screenshot_2.png](attachment:Screenshot_2.png)"
   ]
  },
  {
   "cell_type": "code",
   "execution_count": 15,
   "metadata": {},
   "outputs": [],
   "source": [
    "%lprun -f mean_rating_C mean_rating_C(reviews_2010)"
   ]
  },
  {
   "attachments": {
    "Screenshot_3.png": {
     "image/png": "[encoded data removed]"
    }
   },
   "cell_type": "markdown",
   "metadata": {},
   "source": [
    "![Screenshot_3.png](attachment:Screenshot_3.png)"
   ]
  },
  {
   "cell_type": "markdown",
   "metadata": {},
   "source": [
    "3. Вам предлагается воспользоваться функцией, которая собирает статистику о том, сколько отзывов содержат то или иное слово. Измерьте время выполнения этой функции. Сможете ли вы найти узкие места в коде, используя профайлер? Выпишите (словами), что в имеющемся коде реализовано неоптимально. Оптимизируйте функцию и добейтесь значительного (как минимум, на один порядок) прироста в скорости выполнения."
   ]
  },
  {
   "cell_type": "code",
   "execution_count": 19,
   "metadata": {},
   "outputs": [
    {
     "name": "stdout",
     "output_type": "stream",
     "text": [
      "5.088115300000027\n"
     ]
    }
   ],
   "source": [
    "def get_word_reviews_count(df):\n",
    "    word_reviews = {}\n",
    "    for _, row in df.dropna(subset=['review']).iterrows():\n",
    "        recipe_id, review = row['recipe_id'], row['review']\n",
    "        words = review.split(' ')\n",
    "        for word in words:\n",
    "            if word not in word_reviews:\n",
    "                word_reviews[word] = []\n",
    "            word_reviews[word].append(recipe_id)\n",
    "    \n",
    "    word_reviews_count = {}\n",
    "    for _, row in df.dropna(subset=['review']).iterrows():\n",
    "        review = row['review']\n",
    "        words = review.split(' ')\n",
    "        for word in words:\n",
    "            word_reviews_count[word] = len(word_reviews[word])\n",
    "    return word_reviews_count\n",
    "\n",
    "print(timeit.timeit(lambda: get_word_reviews_count(reviews_2010), number=1))"
   ]
  },
  {
   "cell_type": "markdown",
   "metadata": {},
   "source": [
    "4. Напишите несколько версий функции `MAPE` (см. [MAPE](https://en.wikipedia.org/wiki/Mean_absolute_percentage_error)) для расчета среднего абсолютного процентного отклонения значения рейтинга отзыва на рецепт от среднего значения рейтинга по всем отзывам для этого рецепта. \n",
    "    1. Без использования векторизованных операций и методов массивов `numpy` и без использования `numba`\n",
    "    2. Без использования векторизованных операций и методов массивов `numpy`, но с использованием `numba`\n",
    "    3. С использованием векторизованных операций и методов массивов `numpy`, но без использования `numba`\n",
    "    4. C использованием векторизованных операций и методов массивов `numpy` и `numba`\n",
    "    \n",
    "Измерьте время выполнения каждой из реализаций.\n",
    "\n",
    "Замечание: удалите из выборки отзывы с нулевым рейтингом.\n"
   ]
  },
  {
   "cell_type": "code",
   "execution_count": 10,
   "metadata": {},
   "outputs": [
    {
     "data": {
      "text/html": [
       "<div>\n",
       "<style scoped>\n",
       "    .dataframe tbody tr th:only-of-type {\n",
       "        vertical-align: middle;\n",
       "    }\n",
       "\n",
       "    .dataframe tbody tr th {\n",
       "        vertical-align: top;\n",
       "    }\n",
       "\n",
       "    .dataframe thead th {\n",
       "        text-align: right;\n",
       "    }\n",
       "</style>\n",
       "<table border=\"1\" class=\"dataframe\">\n",
       "  <thead>\n",
       "    <tr style=\"text-align: right;\">\n",
       "      <th></th>\n",
       "      <th>recipe_id</th>\n",
       "      <th>rating</th>\n",
       "      <th>mean_rating</th>\n",
       "    </tr>\n",
       "  </thead>\n",
       "  <tbody>\n",
       "    <tr>\n",
       "      <th>370476</th>\n",
       "      <td>57993</td>\n",
       "      <td>5</td>\n",
       "      <td>4.818182</td>\n",
       "    </tr>\n",
       "    <tr>\n",
       "      <th>624300</th>\n",
       "      <td>142201</td>\n",
       "      <td>5</td>\n",
       "      <td>5.000000</td>\n",
       "    </tr>\n",
       "    <tr>\n",
       "      <th>187037</th>\n",
       "      <td>252013</td>\n",
       "      <td>4</td>\n",
       "      <td>4.000000</td>\n",
       "    </tr>\n",
       "    <tr>\n",
       "      <th>706134</th>\n",
       "      <td>404716</td>\n",
       "      <td>5</td>\n",
       "      <td>4.555556</td>\n",
       "    </tr>\n",
       "    <tr>\n",
       "      <th>312179</th>\n",
       "      <td>129396</td>\n",
       "      <td>5</td>\n",
       "      <td>5.000000</td>\n",
       "    </tr>\n",
       "    <tr>\n",
       "      <th>...</th>\n",
       "      <td>...</td>\n",
       "      <td>...</td>\n",
       "      <td>...</td>\n",
       "    </tr>\n",
       "    <tr>\n",
       "      <th>344676</th>\n",
       "      <td>314698</td>\n",
       "      <td>5</td>\n",
       "      <td>5.000000</td>\n",
       "    </tr>\n",
       "    <tr>\n",
       "      <th>1013457</th>\n",
       "      <td>335534</td>\n",
       "      <td>4</td>\n",
       "      <td>3.833333</td>\n",
       "    </tr>\n",
       "    <tr>\n",
       "      <th>1059834</th>\n",
       "      <td>222001</td>\n",
       "      <td>5</td>\n",
       "      <td>5.000000</td>\n",
       "    </tr>\n",
       "    <tr>\n",
       "      <th>453285</th>\n",
       "      <td>354979</td>\n",
       "      <td>5</td>\n",
       "      <td>4.064516</td>\n",
       "    </tr>\n",
       "    <tr>\n",
       "      <th>691207</th>\n",
       "      <td>415599</td>\n",
       "      <td>5</td>\n",
       "      <td>5.000000</td>\n",
       "    </tr>\n",
       "  </tbody>\n",
       "</table>\n",
       "<p>119891 rows × 3 columns</p>\n",
       "</div>"
      ],
      "text/plain": [
       "         recipe_id  rating  mean_rating\n",
       "370476       57993       5     4.818182\n",
       "624300      142201       5     5.000000\n",
       "187037      252013       4     4.000000\n",
       "706134      404716       5     4.555556\n",
       "312179      129396       5     5.000000\n",
       "...            ...     ...          ...\n",
       "344676      314698       5     5.000000\n",
       "1013457     335534       4     3.833333\n",
       "1059834     222001       5     5.000000\n",
       "453285      354979       5     4.064516\n",
       "691207      415599       5     5.000000\n",
       "\n",
       "[119891 rows x 3 columns]"
      ]
     },
     "execution_count": 10,
     "metadata": {},
     "output_type": "execute_result"
    }
   ],
   "source": [
    "recipes = pd.read_csv('recipes_sample.csv')\n",
    "reviews = pd.read_csv('reviews_sample.csv', index_col=0)\n",
    "\n",
    "df = reviews[['recipe_id', 'rating']].dropna()\n",
    "df = df[df['rating'] != 0]\n",
    "df = pd.merge(df, df.groupby(['recipe_id'])['rating'].mean().rename('mean_rating'), how='left', left_on='recipe_id', right_index=True)\n",
    "df"
   ]
  },
  {
   "cell_type": "code",
   "execution_count": 11,
   "metadata": {},
   "outputs": [],
   "source": [
    "df_a = df['rating'].to_numpy()\n",
    "df_b = df['mean_rating'].to_numpy()"
   ]
  },
  {
   "cell_type": "code",
   "execution_count": 12,
   "metadata": {},
   "outputs": [
    {
     "data": {
      "text/plain": [
       "11.17155025905884"
      ]
     },
     "execution_count": 12,
     "metadata": {},
     "output_type": "execute_result"
    }
   ],
   "source": [
    "def mape_a():\n",
    "    n = len(df_a)\n",
    "    return sum([abs(df_a[i] - df_b[i]) / df_a[i] for i in range(n)]) / n * 100\n",
    "mape_a()"
   ]
  },
  {
   "cell_type": "code",
   "execution_count": 6,
   "metadata": {},
   "outputs": [
    {
     "name": "stdout",
     "output_type": "stream",
     "text": [
      "1.96 s ± 5.26 ms per loop (mean ± std. dev. of 7 runs, 1 loop each)\n"
     ]
    }
   ],
   "source": [
    "%timeit mape_a()"
   ]
  },
  {
   "cell_type": "code",
   "execution_count": 13,
   "metadata": {},
   "outputs": [
    {
     "data": {
      "text/plain": [
       "11.17155025905884"
      ]
     },
     "execution_count": 13,
     "metadata": {},
     "output_type": "execute_result"
    }
   ],
   "source": [
    "@jit(nopython = True)\n",
    "def mape_b():\n",
    "    n = len(df_a)\n",
    "    return sum([abs(df_a[i] - df_b[i]) / df_a[i] for i in range(n)]) / n * 100\n",
    "mape_b()"
   ]
  },
  {
   "cell_type": "code",
   "execution_count": 10,
   "metadata": {},
   "outputs": [
    {
     "name": "stdout",
     "output_type": "stream",
     "text": [
      "2.78 ms ± 56.7 µs per loop (mean ± std. dev. of 7 runs, 100 loops each)\n"
     ]
    }
   ],
   "source": [
    "%timeit mape_b()"
   ]
  },
  {
   "cell_type": "code",
   "execution_count": 14,
   "metadata": {},
   "outputs": [
    {
     "data": {
      "text/plain": [
       "11.171550259058085"
      ]
     },
     "execution_count": 14,
     "metadata": {},
     "output_type": "execute_result"
    }
   ],
   "source": [
    "def mape_c():\n",
    "    return np.mean(np.fabs(df_a - df_b) / df_a) * 100\n",
    "mape_c()"
   ]
  },
  {
   "cell_type": "code",
   "execution_count": 12,
   "metadata": {},
   "outputs": [
    {
     "name": "stdout",
     "output_type": "stream",
     "text": [
      "2.76 ms ± 139 µs per loop (mean ± std. dev. of 7 runs, 100 loops each)\n"
     ]
    }
   ],
   "source": [
    "%timeit mape_c()"
   ]
  },
  {
   "cell_type": "code",
   "execution_count": 15,
   "metadata": {},
   "outputs": [
    {
     "data": {
      "text/plain": [
       "11.17155025905884"
      ]
     },
     "execution_count": 15,
     "metadata": {},
     "output_type": "execute_result"
    }
   ],
   "source": [
    "@jit(nopython = True)\n",
    "def mape_d():\n",
    "    return np.mean(np.fabs(df_a - df_b) / df_a) * 100\n",
    "mape_d()"
   ]
  },
  {
   "cell_type": "code",
   "execution_count": 14,
   "metadata": {},
   "outputs": [
    {
     "name": "stdout",
     "output_type": "stream",
     "text": [
      "852 µs ± 26.2 µs per loop (mean ± std. dev. of 7 runs, 1,000 loops each)\n"
     ]
    }
   ],
   "source": [
    "%timeit mape_d()"
   ]
  }
 ],
 "metadata": {
  "kernelspec": {
   "display_name": "Python 3 (ipykernel)",
   "language": "python",
   "name": "python3"
  },
  "language_info": {
   "codemirror_mode": {
    "name": "ipython",
    "version": 3
   },
   "file_extension": ".py",
   "mimetype": "text/x-python",
   "name": "python",
   "nbconvert_exporter": "python",
   "pygments_lexer": "ipython3",
   "version": "3.9.13"
  }
 },
 "nbformat": 4,
 "nbformat_minor": 4
}
