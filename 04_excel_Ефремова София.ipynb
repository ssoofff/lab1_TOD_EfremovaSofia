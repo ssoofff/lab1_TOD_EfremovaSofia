{
 "cells": [
  {
   "cell_type": "markdown",
   "metadata": {},
   "source": [
    "# Работа с Excel"
   ]
  },
  {
   "cell_type": "markdown",
   "metadata": {},
   "source": [
    "Материалы:\n",
    "* Макрушин С.В. Лекция 7: Работа с Excel\n",
    "* https://docs.xlwings.org/en/stable/quickstart.html\n",
    "* https://nbviewer.jupyter.org/github/pybokeh/jupyter_notebooks/blob/master/xlwings/Excel_Formatting.ipynb#search_text\n"
   ]
  },
  {
   "cell_type": "markdown",
   "metadata": {},
   "source": [
    "## Задачи для совместного разбора"
   ]
  },
  {
   "cell_type": "markdown",
   "metadata": {},
   "source": [
    "1. На листе \"Рецептура\" файла `себестоимостьА_в1.xlsx` для области \"Пшеничный хлеб\" рассчитать себестоимость всех видов продукции."
   ]
  },
  {
   "cell_type": "code",
   "execution_count": 71,
   "metadata": {},
   "outputs": [
    {
     "name": "stdout",
     "output_type": "stream",
     "text": [
      "Себестоимость хлеба Венгерский: 21.48\n",
      "Себестоимость хлеба Барбари: 28.72\n",
      "Себестоимость хлеба парижский: 21.816\n",
      "Себестоимость хлеба Чиабатта: 5.615\n"
     ]
    }
   ],
   "source": [
    "import openpyxl\n",
    "\n",
    "bread = openpyxl.open(\"себестоимостьА_в1.xlsx\")\n",
    "sheet = bread.active\n",
    "\n",
    "prices = [sheet[14][col].value for col in range(6, 15)]\n",
    "\n",
    "hungarian_ingr = [sheet[7][column].value for column in range(6, 15) if sheet[7][column].value]\n",
    "bread1 = [i * j for i, j in zip(prices, hungarian_ingr)]\n",
    "\n",
    "barbary_ingr = [sheet[8][column].value for column in range(6, 15) if sheet[8][column].value]\n",
    "bread2 = [i * j for i, j in zip(prices, barbary_ingr)]\n",
    "\n",
    "paris_ingr = [sheet[9][column].value for column in range(6, 15) if sheet[9][column].value]\n",
    "bread3 = [i * j for i, j in zip(prices, paris_ingr)]\n",
    "\n",
    "ciabatta = [sheet[10][column].value for column in range(6, 15) if sheet[10][column].value]\n",
    "bread4 = [i * j for i, j in zip(prices, ciabatta)]\n",
    "\n",
    "print(f'Себестоимость хлеба Венгерский: {sum(bread1)}\\nСебестоимость хлеба Барбари: {sum(bread2):.2f}\\nСебестоимость хлеба парижский: {sum(bread3)}\\nСебестоимость хлеба Чиабатта: {sum(bread4)}')"
   ]
  },
  {
   "cell_type": "markdown",
   "metadata": {},
   "source": [
    "2. Результаты расчетов 1.1 сохранить в отдельном столбце области \"Пшеничный хлеб\""
   ]
  },
  {
   "cell_type": "code",
   "execution_count": null,
   "metadata": {},
   "outputs": [],
   "source": []
  },
  {
   "cell_type": "markdown",
   "metadata": {},
   "source": [
    "3. Приблизить форматирование столбца, добавленного в задаче 2 к оформлению всей области."
   ]
  },
  {
   "cell_type": "code",
   "execution_count": null,
   "metadata": {},
   "outputs": [],
   "source": []
  },
  {
   "cell_type": "markdown",
   "metadata": {},
   "source": [
    "4. Выполнить 3 с помощью \"протягиваемых\" формул."
   ]
  },
  {
   "cell_type": "code",
   "execution_count": null,
   "metadata": {},
   "outputs": [],
   "source": []
  },
  {
   "cell_type": "markdown",
   "metadata": {},
   "source": [
    "## Лабораторная работа 7.1"
   ]
  },
  {
   "cell_type": "markdown",
   "metadata": {},
   "source": [
    "1. Загрузите данные из файлов `reviews_sample.csv` (__ЛР2__) и `recipes_sample.csv` (__ЛР5__) в виде `pd.DataFrame`. Обратите внимание на корректное считывание столбца(ов) с индексами. Оставьте в таблице с рецептами следующие столбцы: `id`, `name`, `minutes`, `submitted`, `description`, `n_ingredients`"
   ]
  },
  {
   "cell_type": "code",
   "execution_count": 1,
   "metadata": {},
   "outputs": [
    {
     "data": {
      "text/html": [
       "<div>\n",
       "<style scoped>\n",
       "    .dataframe tbody tr th:only-of-type {\n",
       "        vertical-align: middle;\n",
       "    }\n",
       "\n",
       "    .dataframe tbody tr th {\n",
       "        vertical-align: top;\n",
       "    }\n",
       "\n",
       "    .dataframe thead th {\n",
       "        text-align: right;\n",
       "    }\n",
       "</style>\n",
       "<table border=\"1\" class=\"dataframe\">\n",
       "  <thead>\n",
       "    <tr style=\"text-align: right;\">\n",
       "      <th></th>\n",
       "      <th>id</th>\n",
       "      <th>name</th>\n",
       "      <th>minutes</th>\n",
       "      <th>submitted</th>\n",
       "      <th>description</th>\n",
       "      <th>n_ingredients</th>\n",
       "    </tr>\n",
       "  </thead>\n",
       "  <tbody>\n",
       "    <tr>\n",
       "      <th>0</th>\n",
       "      <td>44123</td>\n",
       "      <td>george s at the cove  black bean soup</td>\n",
       "      <td>90</td>\n",
       "      <td>2002-10-25</td>\n",
       "      <td>an original recipe created by chef scott meska...</td>\n",
       "      <td>18.0</td>\n",
       "    </tr>\n",
       "    <tr>\n",
       "      <th>1</th>\n",
       "      <td>67664</td>\n",
       "      <td>healthy for them  yogurt popsicles</td>\n",
       "      <td>10</td>\n",
       "      <td>2003-07-26</td>\n",
       "      <td>my children and their friends ask for my homem...</td>\n",
       "      <td>NaN</td>\n",
       "    </tr>\n",
       "    <tr>\n",
       "      <th>2</th>\n",
       "      <td>38798</td>\n",
       "      <td>i can t believe it s spinach</td>\n",
       "      <td>30</td>\n",
       "      <td>2002-08-29</td>\n",
       "      <td>these were so go, it surprised even me.</td>\n",
       "      <td>8.0</td>\n",
       "    </tr>\n",
       "    <tr>\n",
       "      <th>3</th>\n",
       "      <td>35173</td>\n",
       "      <td>italian  gut busters</td>\n",
       "      <td>45</td>\n",
       "      <td>2002-07-27</td>\n",
       "      <td>my sister-in-law made these for us at a family...</td>\n",
       "      <td>NaN</td>\n",
       "    </tr>\n",
       "    <tr>\n",
       "      <th>4</th>\n",
       "      <td>84797</td>\n",
       "      <td>love is in the air  beef fondue   sauces</td>\n",
       "      <td>25</td>\n",
       "      <td>2004-02-23</td>\n",
       "      <td>i think a fondue is a very romantic casual din...</td>\n",
       "      <td>NaN</td>\n",
       "    </tr>\n",
       "    <tr>\n",
       "      <th>...</th>\n",
       "      <td>...</td>\n",
       "      <td>...</td>\n",
       "      <td>...</td>\n",
       "      <td>...</td>\n",
       "      <td>...</td>\n",
       "      <td>...</td>\n",
       "    </tr>\n",
       "    <tr>\n",
       "      <th>29995</th>\n",
       "      <td>267661</td>\n",
       "      <td>zurie s holey rustic olive and cheddar bread</td>\n",
       "      <td>80</td>\n",
       "      <td>2007-11-25</td>\n",
       "      <td>this is based on a french recipe but i changed...</td>\n",
       "      <td>10.0</td>\n",
       "    </tr>\n",
       "    <tr>\n",
       "      <th>29996</th>\n",
       "      <td>386977</td>\n",
       "      <td>zwetschgenkuchen  bavarian plum cake</td>\n",
       "      <td>240</td>\n",
       "      <td>2009-08-24</td>\n",
       "      <td>this is a traditional fresh plum cake, thought...</td>\n",
       "      <td>11.0</td>\n",
       "    </tr>\n",
       "    <tr>\n",
       "      <th>29997</th>\n",
       "      <td>103312</td>\n",
       "      <td>zwiebelkuchen   southwest german onion cake</td>\n",
       "      <td>75</td>\n",
       "      <td>2004-11-03</td>\n",
       "      <td>this is a traditional late summer early fall s...</td>\n",
       "      <td>NaN</td>\n",
       "    </tr>\n",
       "    <tr>\n",
       "      <th>29998</th>\n",
       "      <td>486161</td>\n",
       "      <td>zydeco soup</td>\n",
       "      <td>60</td>\n",
       "      <td>2012-08-29</td>\n",
       "      <td>this is a delicious soup that i originally fou...</td>\n",
       "      <td>NaN</td>\n",
       "    </tr>\n",
       "    <tr>\n",
       "      <th>29999</th>\n",
       "      <td>298512</td>\n",
       "      <td>cookies by design   cookies on a stick</td>\n",
       "      <td>29</td>\n",
       "      <td>2008-04-15</td>\n",
       "      <td>i've heard of the 'cookies by design' company,...</td>\n",
       "      <td>10.0</td>\n",
       "    </tr>\n",
       "  </tbody>\n",
       "</table>\n",
       "<p>30000 rows × 6 columns</p>\n",
       "</div>"
      ],
      "text/plain": [
       "           id                                          name  minutes  \\\n",
       "0       44123         george s at the cove  black bean soup       90   \n",
       "1       67664            healthy for them  yogurt popsicles       10   \n",
       "2       38798                  i can t believe it s spinach       30   \n",
       "3       35173                          italian  gut busters       45   \n",
       "4       84797      love is in the air  beef fondue   sauces       25   \n",
       "...       ...                                           ...      ...   \n",
       "29995  267661  zurie s holey rustic olive and cheddar bread       80   \n",
       "29996  386977          zwetschgenkuchen  bavarian plum cake      240   \n",
       "29997  103312   zwiebelkuchen   southwest german onion cake       75   \n",
       "29998  486161                                   zydeco soup       60   \n",
       "29999  298512        cookies by design   cookies on a stick       29   \n",
       "\n",
       "        submitted                                        description  \\\n",
       "0      2002-10-25  an original recipe created by chef scott meska...   \n",
       "1      2003-07-26  my children and their friends ask for my homem...   \n",
       "2      2002-08-29            these were so go, it surprised even me.   \n",
       "3      2002-07-27  my sister-in-law made these for us at a family...   \n",
       "4      2004-02-23  i think a fondue is a very romantic casual din...   \n",
       "...           ...                                                ...   \n",
       "29995  2007-11-25  this is based on a french recipe but i changed...   \n",
       "29996  2009-08-24  this is a traditional fresh plum cake, thought...   \n",
       "29997  2004-11-03  this is a traditional late summer early fall s...   \n",
       "29998  2012-08-29  this is a delicious soup that i originally fou...   \n",
       "29999  2008-04-15  i've heard of the 'cookies by design' company,...   \n",
       "\n",
       "       n_ingredients  \n",
       "0               18.0  \n",
       "1                NaN  \n",
       "2                8.0  \n",
       "3                NaN  \n",
       "4                NaN  \n",
       "...              ...  \n",
       "29995           10.0  \n",
       "29996           11.0  \n",
       "29997            NaN  \n",
       "29998            NaN  \n",
       "29999           10.0  \n",
       "\n",
       "[30000 rows x 6 columns]"
      ]
     },
     "execution_count": 1,
     "metadata": {},
     "output_type": "execute_result"
    }
   ],
   "source": [
    "import pandas as pd\n",
    "\n",
    "reviews = pd.read_csv(\"reviews_sample.csv\")\n",
    "recipes = pd.read_csv(\"recipes_sample.csv\")[[\"id\", \"name\", \"minutes\", \"submitted\", \"description\", \"n_ingredients\"]]\n",
    "recipes\n"
   ]
  },
  {
   "cell_type": "markdown",
   "metadata": {},
   "source": [
    "2. Случайным образом выберите 5% строк из каждой таблицы и сохраните две таблицы на разные листы в один файл `recipes.xlsx`. Дайте листам названия \"Рецепты\" и \"Отзывы\", соответствующие содержанию таблиц. "
   ]
  },
  {
   "cell_type": "code",
   "execution_count": 4,
   "metadata": {},
   "outputs": [],
   "source": [
    "random_reviews = reviews.sample(n=int(0.05 * len(reviews)))\n",
    "random_recipes = recipes.sample(n=int(0.05 * len(recipes)))\n",
    "with pd.ExcelWriter(\"recipes.xlsx\") as writer:\n",
    "    random_recipes.to_excel(writer, sheet_name=\"Recipes\")\n",
    "    random_reviews.to_excel(writer, sheet_name=\"Reviews\")"
   ]
  },
  {
   "cell_type": "code",
   "execution_count": 11,
   "metadata": {},
   "outputs": [
    {
     "data": {
      "text/html": [
       "<div>\n",
       "<style scoped>\n",
       "    .dataframe tbody tr th:only-of-type {\n",
       "        vertical-align: middle;\n",
       "    }\n",
       "\n",
       "    .dataframe tbody tr th {\n",
       "        vertical-align: top;\n",
       "    }\n",
       "\n",
       "    .dataframe thead th {\n",
       "        text-align: right;\n",
       "    }\n",
       "</style>\n",
       "<table border=\"1\" class=\"dataframe\">\n",
       "  <thead>\n",
       "    <tr style=\"text-align: right;\">\n",
       "      <th></th>\n",
       "      <th>id</th>\n",
       "      <th>name</th>\n",
       "      <th>minutes</th>\n",
       "      <th>submitted</th>\n",
       "      <th>description</th>\n",
       "      <th>n_ingredients</th>\n",
       "    </tr>\n",
       "  </thead>\n",
       "  <tbody>\n",
       "    <tr>\n",
       "      <th>15191</th>\n",
       "      <td>298369</td>\n",
       "      <td>kalua pig spring rolls</td>\n",
       "      <td>25</td>\n",
       "      <td>2008-04-14</td>\n",
       "      <td>great spring rolls</td>\n",
       "      <td>8.0</td>\n",
       "    </tr>\n",
       "    <tr>\n",
       "      <th>9502</th>\n",
       "      <td>187673</td>\n",
       "      <td>ditalini salad</td>\n",
       "      <td>45</td>\n",
       "      <td>2006-09-26</td>\n",
       "      <td>ditalini are little pasta tubes, about as long...</td>\n",
       "      <td>15.0</td>\n",
       "    </tr>\n",
       "    <tr>\n",
       "      <th>23645</th>\n",
       "      <td>398424</td>\n",
       "      <td>scalloped potato s</td>\n",
       "      <td>150</td>\n",
       "      <td>2009-11-08</td>\n",
       "      <td>i was thumbing through the family cookbook and...</td>\n",
       "      <td>8.0</td>\n",
       "    </tr>\n",
       "    <tr>\n",
       "      <th>8535</th>\n",
       "      <td>200897</td>\n",
       "      <td>crispy rosemary potatoes</td>\n",
       "      <td>60</td>\n",
       "      <td>2006-12-17</td>\n",
       "      <td>you must use fresh potatoes for this. these po...</td>\n",
       "      <td>NaN</td>\n",
       "    </tr>\n",
       "    <tr>\n",
       "      <th>29505</th>\n",
       "      <td>90948</td>\n",
       "      <td>wonderful beef and noodle casserole</td>\n",
       "      <td>60</td>\n",
       "      <td>2004-05-10</td>\n",
       "      <td>my wife found the recipe on which this one is ...</td>\n",
       "      <td>19.0</td>\n",
       "    </tr>\n",
       "    <tr>\n",
       "      <th>...</th>\n",
       "      <td>...</td>\n",
       "      <td>...</td>\n",
       "      <td>...</td>\n",
       "      <td>...</td>\n",
       "      <td>...</td>\n",
       "      <td>...</td>\n",
       "    </tr>\n",
       "    <tr>\n",
       "      <th>15083</th>\n",
       "      <td>49543</td>\n",
       "      <td>julie s extra special holiday chex mix</td>\n",
       "      <td>70</td>\n",
       "      <td>2002-12-22</td>\n",
       "      <td>my mix is based on a recipe that my childhood ...</td>\n",
       "      <td>NaN</td>\n",
       "    </tr>\n",
       "    <tr>\n",
       "      <th>25335</th>\n",
       "      <td>63160</td>\n",
       "      <td>spicy chicken dippers</td>\n",
       "      <td>30</td>\n",
       "      <td>2003-05-27</td>\n",
       "      <td>i like these with a blue cheese dip, but go fo...</td>\n",
       "      <td>5.0</td>\n",
       "    </tr>\n",
       "    <tr>\n",
       "      <th>14067</th>\n",
       "      <td>446481</td>\n",
       "      <td>honey grilled chicken</td>\n",
       "      <td>55</td>\n",
       "      <td>2011-01-13</td>\n",
       "      <td>this couldn't be more economical....buy a whol...</td>\n",
       "      <td>8.0</td>\n",
       "    </tr>\n",
       "    <tr>\n",
       "      <th>4072</th>\n",
       "      <td>272841</td>\n",
       "      <td>buffalo turkey burgers with blue cheese gravy ...</td>\n",
       "      <td>30</td>\n",
       "      <td>2007-12-19</td>\n",
       "      <td>i saw these on rachael ray's episode with kris...</td>\n",
       "      <td>16.0</td>\n",
       "    </tr>\n",
       "    <tr>\n",
       "      <th>25587</th>\n",
       "      <td>197461</td>\n",
       "      <td>spinach and dhal curry</td>\n",
       "      <td>55</td>\n",
       "      <td>2006-11-24</td>\n",
       "      <td>i love spicy food and dhals (lentil curry) and...</td>\n",
       "      <td>12.0</td>\n",
       "    </tr>\n",
       "  </tbody>\n",
       "</table>\n",
       "<p>1500 rows × 6 columns</p>\n",
       "</div>"
      ],
      "text/plain": [
       "           id                                               name  minutes  \\\n",
       "15191  298369                             kalua pig spring rolls       25   \n",
       "9502   187673                                     ditalini salad       45   \n",
       "23645  398424                                 scalloped potato s      150   \n",
       "8535   200897                           crispy rosemary potatoes       60   \n",
       "29505   90948                wonderful beef and noodle casserole       60   \n",
       "...       ...                                                ...      ...   \n",
       "15083   49543             julie s extra special holiday chex mix       70   \n",
       "25335   63160                              spicy chicken dippers       30   \n",
       "14067  446481                              honey grilled chicken       55   \n",
       "4072   272841  buffalo turkey burgers with blue cheese gravy ...       30   \n",
       "25587  197461                             spinach and dhal curry       55   \n",
       "\n",
       "        submitted                                        description  \\\n",
       "15191  2008-04-14                                 great spring rolls   \n",
       "9502   2006-09-26  ditalini are little pasta tubes, about as long...   \n",
       "23645  2009-11-08  i was thumbing through the family cookbook and...   \n",
       "8535   2006-12-17  you must use fresh potatoes for this. these po...   \n",
       "29505  2004-05-10  my wife found the recipe on which this one is ...   \n",
       "...           ...                                                ...   \n",
       "15083  2002-12-22  my mix is based on a recipe that my childhood ...   \n",
       "25335  2003-05-27  i like these with a blue cheese dip, but go fo...   \n",
       "14067  2011-01-13  this couldn't be more economical....buy a whol...   \n",
       "4072   2007-12-19  i saw these on rachael ray's episode with kris...   \n",
       "25587  2006-11-24  i love spicy food and dhals (lentil curry) and...   \n",
       "\n",
       "       n_ingredients  \n",
       "15191            8.0  \n",
       "9502            15.0  \n",
       "23645            8.0  \n",
       "8535             NaN  \n",
       "29505           19.0  \n",
       "...              ...  \n",
       "15083            NaN  \n",
       "25335            5.0  \n",
       "14067            8.0  \n",
       "4072            16.0  \n",
       "25587           12.0  \n",
       "\n",
       "[1500 rows x 6 columns]"
      ]
     },
     "execution_count": 11,
     "metadata": {},
     "output_type": "execute_result"
    }
   ],
   "source": [
    "random_recipes"
   ]
  },
  {
   "cell_type": "markdown",
   "metadata": {},
   "source": [
    "3. Используя `xlwings`, добавьте на лист `Рецепты` столбец `seconds_assign`, показывающий время выполнения рецепта в секундах. Выполните задание при помощи присваивания массива значений диапазону ячеек."
   ]
  },
  {
   "cell_type": "code",
   "execution_count": 5,
   "metadata": {},
   "outputs": [],
   "source": [
    "import xlwings as xw\n",
    "\n",
    "wb = xw.Book(\"recipes.xlsx\")\n",
    "sh_recipes = wb.sheets(\"Recipes\")\n",
    "# new_col = wb.sheets(\"Recipes\").range('H:H').insert()\n",
    "sh_recipes[\"H1\"].value = \"seconds_assign\"\n",
    "seconds = recipes[\"minutes\"] * 60\n",
    "sh_recipes.range(\"H2\").options(transpose = True).value = list(seconds)"
   ]
  },
  {
   "cell_type": "markdown",
   "metadata": {},
   "source": [
    "4. Используя `xlwings`, добавьте на лист `Рецепты` столбец `seconds_formula`, показывающий время выполнения рецепта в секундах. Выполните задание при помощи формул Excel."
   ]
  },
  {
   "cell_type": "code",
   "execution_count": null,
   "metadata": {},
   "outputs": [],
   "source": [
    "# new_col2 = wb.sheets(\"Recipes\").range('I:I').insert()\n",
    "sh_recipes[\"I1\"].value = \"seconds_formula\"\n",
    "for i in range(2, len(seconds)+2):\n",
    "    sh_recipes.range('I'+str(i)).formula = '=H' + str(i)"
   ]
  },
  {
   "cell_type": "markdown",
   "metadata": {},
   "source": [
    "5. Сделайте названия всех добавленных столбцов полужирными и выровняйте по центру ячейки."
   ]
  },
  {
   "cell_type": "code",
   "execution_count": null,
   "metadata": {},
   "outputs": [],
   "source": [
    "import openpyxl.styles\n",
    "\n",
    "sh_recipes.range('H1:I1').api.Font.Bold\n",
    "sh_recipes.range('H1:I1').api.HorizontalAlignment = xw.constants.HAlign.xlHAlignCenter "
   ]
  },
  {
   "cell_type": "markdown",
   "metadata": {},
   "source": [
    "6. Раскрасьте ячейки столбца `minutes` в соответствии со следующим правилом: если рецепт выполняется быстрее 5 минут, то цвет - зеленый; от 5 до 10 минут - жёлтый; и больше 10 - красный."
   ]
  },
  {
   "cell_type": "code",
   "execution_count": null,
   "metadata": {},
   "outputs": [],
   "source": [
    "for i in range(2, 1502):\n",
    "    if int(sh_recipes.range(f'D{i}').value) < 5:\n",
    "        sh_recipes.range(f'D{i}').color = (0, 128, 0) #grean RGB code\n",
    "    elif int(sh_recipes.range('D'+str(i)).value) >= 5 and int(sh_recipes.range('D'+str(i)).value) <= 10:\n",
    "        sh_recipes.range(f'D{i}').color = (255, 255, 0) #yellow\n",
    "    elif int(sh_recipes.range(f'D{i}').value) > 10:\n",
    "        sh_recipes.range(f'D{i}').color = (255, 0, 0) #red"
   ]
  },
  {
   "cell_type": "markdown",
   "metadata": {},
   "source": [
    "7. Добавьте на лист `Рецепты`  столбец `n_reviews`, содержащий кол-во отзывов для этого рецепта. Выполните задание при помощи формул Excel."
   ]
  },
  {
   "cell_type": "code",
   "execution_count": 10,
   "metadata": {},
   "outputs": [],
   "source": [
    "sh_recipes.range('J2:J1501').formula = '=COUNTIF(Отзывы!$C$2:$C$6336, C2)'"
   ]
  },
  {
   "cell_type": "markdown",
   "metadata": {},
   "source": [
    "## Лабораторная работа 7.2"
   ]
  },
  {
   "cell_type": "markdown",
   "metadata": {},
   "source": [
    "8. Напишите функцию `validate()`, которая проверяет соответствие всех строк из листа `Отзывы` следующим правилам:\n",
    "    * Рейтинг - это число от 0 до 5 включительно\n",
    "    * Соответствующий рецепт имеется на листе `Рецепты`\n",
    "    \n",
    "В случае несоответствия этим правилам, выделите строку красным цветом"
   ]
  },
  {
   "cell_type": "code",
   "execution_count": null,
   "metadata": {},
   "outputs": [],
   "source": [
    "import xlwings as xw\n",
    "import openpyxl.styles\n",
    "\n",
    "sh_reviews = wb.sheets['Reviews']\n",
    "\n",
    "def validate(line_rat, line_res):\n",
    "    if (sh_reviews.range(line_rat).value in [0, 1, 2, 3, 4, 5]) and (sh_reviews.range(line_res).value in sh_recipes.range('C2:C1501').value):\n",
    "        print('Соответствие верно')\n",
    "    else:\n",
    "        sh_reviews.range('A'+str(line_rat[1])+':F'+str(line_rat[1])).fill = openpyxl.styles.PatternFill('solid', fgColor = 'ff0000')\n",
    "        \n",
    "for i in range(2, 6338):\n",
    "    validate('E'+str(i), 'C'+str(i))"
   ]
  },
  {
   "cell_type": "markdown",
   "metadata": {},
   "source": [
    "9. В файле `recipes_model.csv` находится модель данных предметной области \"рецепты\". При помощи пакета `csv` считайте эти данные. При помощи пакета `xlwings` запишите данные на лист `Модель` книги `recipes_model.xlsx`, начиная с ячейки `A2`, не используя циклы. Сделайте скриншот текущего состояния листа и прикрепите в ячейку ноутбука. "
   ]
  },
  {
   "cell_type": "code",
   "execution_count": null,
   "metadata": {},
   "outputs": [],
   "source": [
    "import xlwings as xw\n",
    "import csv\n",
    "\n",
    "with open('recipes_model.csv', 'r', encoding='utf-8') as file:\n",
    "    reader = csv.reader(file, delimiter = '\\t')\n",
    "    data = list(reader)\n",
    "    \n",
    "wb2 = xw.Book()\n",
    "sheet = wb2.sheets.add('Model')\n",
    "\n",
    "sheet.range('A2').value = data\n",
    "\n",
    "wb2.save('recipes_model1.xlsx')\n",
    "wb2.close()"
   ]
  },
  {
   "cell_type": "markdown",
   "metadata": {},
   "source": [
    "10. При помощи пакета `xlwings` добавьте в столбец J формулу для описания столбца на языке SQL. Формула должна реализовывать следующую логику:\n",
    "\n",
    "    1\\. в начале строки идут значения из столбцов В и C (значение столбца С приведено к верхнему регистру), разделенные пробелом\n",
    "    \n",
    "    2\\. далее идут слова на основе столбца \"Ключ\"\n",
    "        2.1 если в столбце \"Ключ\" указано значение \"PK\", то дальше через пробел идет ключевое слово \"PRIMARY KEY\"\n",
    "        2.2 если в столбце \"Ключ\" указано значение \"FK\", то дальше через пробел идет ключевое слово \"REFERENCES\", затем значения столбцов H и I в формате \"название_таблицы(название_столбца)\"\n",
    "        \n",
    "    3\\. если в столбце \"Обязательно к заполнению\" указано значение \"Y\" и в столбце \"Ключ\" указано не \"PK\", то дальше через пробел идет ключевое слово \"NOT NULL\".\n",
    "\n",
    "Заполните этой формулой необходимое количество строк, используя \"протягивание\". Количество строк для протягивания определите на основе данных.\n",
    "\n",
    "Сделайте скриншот текущего состояния листа и прикрепите в ячейку ноутбука."
   ]
  },
  {
   "cell_type": "code",
   "execution_count": null,
   "metadata": {},
   "outputs": [],
   "source": []
  },
  {
   "cell_type": "markdown",
   "metadata": {},
   "source": [
    "11. При помощи пакета `xlwings` измените стилизацию листа `Модель`.\n",
    "* для заголовков добавьте заливку цвета `00ccff`\n",
    "* примените автоподбор ширины столбца;\n",
    "* сделайте шрифт заголовков полужирным;\n",
    "* добавьте таблице автофильтр.\n",
    "\n",
    "Сделайте скриншот текущего состояния листа и прикрепите в ячейку ноутбука."
   ]
  },
  {
   "cell_type": "markdown",
   "metadata": {},
   "source": [
    "12. Посчитайте количество атрибутов для каждой из сущностей. Создайте лист `Статистика` и запишите в него результат группировки, начиная с ячейки \"А1\". Визуализируйте полученный результат при помощи столбчатой диаграммы. Сохраните полученную визуализацию на лист `Статистика`, начиная с ячейки \"E2\".  Сделайте скриншот листа `Статистика` и прикрепите в ячейку ноутбука.\n",
    "\n",
    "* Вы можете воспользоваться методами для визуализации, которые поставляются вместе с объектами `pandas` (см. https://pandas.pydata.org/docs/reference/api/pandas.DataFrame.plot) "
   ]
  }
 ],
 "metadata": {
  "kernelspec": {
   "display_name": "base",
   "language": "python",
   "name": "python3"
  },
  "language_info": {
   "codemirror_mode": {
    "name": "ipython",
    "version": 3
   },
   "file_extension": ".py",
   "mimetype": "text/x-python",
   "name": "python",
   "nbconvert_exporter": "python",
   "pygments_lexer": "ipython3",
   "version": "3.9.13"
  },
  "vscode": {
   "interpreter": {
    "hash": "5180075c4e5a455a3499bd1e0770c9a23bcdf5f232dfa88b94bbd90fd1eee4fe"
   }
  }
 },
 "nbformat": 4,
 "nbformat_minor": 4
}
